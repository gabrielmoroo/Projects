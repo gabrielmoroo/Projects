{
 "cells": [
  {
   "cell_type": "code",
   "execution_count": 1,
   "id": "16e1b68f",
   "metadata": {},
   "outputs": [],
   "source": [
    "def display_board(board):\n",
    "    print(f'   |   |   \\n {board[7]} | {board[8]} | {board[9]} \\n   |   |   \\n-----------\\n   |   |   \\n {board[4]} | {board[5]} | {board[6]} \\n   |   |   \\n-----------\\n   |   |   \\n {board[1]} | {board[2]} | {board[3]} \\n   |   |   ')"
   ]
  },
  {
   "cell_type": "code",
   "execution_count": 17,
   "id": "b94d702c",
   "metadata": {},
   "outputs": [
    {
     "ename": "NameError",
     "evalue": "name 'board' is not defined",
     "output_type": "error",
     "traceback": [
      "\u001b[1;31m---------------------------------------------------------------------------\u001b[0m",
      "\u001b[1;31mNameError\u001b[0m                                 Traceback (most recent call last)",
      "Input \u001b[1;32mIn [17]\u001b[0m, in \u001b[0;36m<cell line: 1>\u001b[1;34m()\u001b[0m\n\u001b[1;32m----> 1\u001b[0m display_board(\u001b[43mboard\u001b[49m)\n",
      "\u001b[1;31mNameError\u001b[0m: name 'board' is not defined"
     ]
    }
   ],
   "source": [
    "display_board(board)"
   ]
  },
  {
   "cell_type": "code",
   "execution_count": 2,
   "id": "afa3261a",
   "metadata": {},
   "outputs": [],
   "source": [
    "from IPython.display import clear_output\n",
    "clear_output()"
   ]
  },
  {
   "cell_type": "code",
   "execution_count": 3,
   "id": "82579e11",
   "metadata": {},
   "outputs": [],
   "source": [
    "def player_input():\n",
    "    choice= 'Wrong'\n",
    "    ordem= \"\"\n",
    "    while choice not in ['X','O']:\n",
    "        choice = input(\"Player 1: Do you want to be X or O? \")\n",
    "        choice = choice.upper()\n",
    "        if choice not in ['X','O']:\n",
    "            clear_output()\n",
    "            print(\"Sorry, you did not enter X or O. Try again\")\n",
    "        P1=choice\n",
    "        if P1 == 'X':\n",
    "            print(P1+'é o priemiro')\n",
    "            ordem=('X','O')\n",
    "        else:\n",
    "            print(P1+'é o priemiro')\n",
    "            ordem=('O','X')\n",
    "    return ordem\n",
    "    \n",
    "    "
   ]
  },
  {
   "cell_type": "code",
   "execution_count": 27,
   "id": "85ccd1e6",
   "metadata": {},
   "outputs": [
    {
     "name": "stdout",
     "output_type": "stream",
     "text": [
      "Player 1: Do you want to be X or O? O\n",
      "Oé o priemiro\n"
     ]
    },
    {
     "data": {
      "text/plain": [
       "('O', 'X')"
      ]
     },
     "execution_count": 27,
     "metadata": {},
     "output_type": "execute_result"
    }
   ],
   "source": [
    "player_input()"
   ]
  },
  {
   "cell_type": "code",
   "execution_count": 4,
   "id": "f4bf3354",
   "metadata": {},
   "outputs": [],
   "source": [
    "def place_marker(board,marker,position):\n",
    "    board[position] = marker\n",
    "    return board\n",
    "    \n",
    "    "
   ]
  },
  {
   "cell_type": "code",
   "execution_count": 12,
   "id": "a71b2e7b",
   "metadata": {},
   "outputs": [],
   "source": [
    "def win_check(board, mark):\n",
    "    if board[1]== mark and board[2]== mark  and board[3]== mark:\n",
    "        return True\n",
    "    elif board[4]== mark and board[5]== mark  and board[6]== mark:\n",
    "        return True\n",
    "    elif board[7]== mark and board[8]== mark  and board[9]== mark:\n",
    "        return True\n",
    "    elif board[1]== mark and board[4]== mark  and board[7]== mark:\n",
    "        return True\n",
    "    elif board[2]== mark and board[5]== mark  and board[8]== mark:\n",
    "        return True\n",
    "    elif board[3]== mark and board[6]== mark  and board[9]== mark:\n",
    "        return True\n",
    "    elif board[1]== mark and board[5]== mark  and board[9]== mark:\n",
    "        return True\n",
    "    elif board[3]== mark and board[5]== mark  and board[7]== mark:\n",
    "        return True\n",
    "    else:\n",
    "        return False\n"
   ]
  },
  {
   "cell_type": "code",
   "execution_count": 6,
   "id": "6081152b",
   "metadata": {},
   "outputs": [],
   "source": [
    "import random\n",
    "def choose_first(p1,p2):\n",
    "    player_random=random.randint(1,2)\n",
    "    if player_random ==1:\n",
    "        print(\"Player one starts\")\n",
    "        return p1\n",
    "    else:\n",
    "        print(\"Player two starts\")\n",
    "        return p2"
   ]
  },
  {
   "cell_type": "code",
   "execution_count": 19,
   "id": "62fa8e6a",
   "metadata": {},
   "outputs": [
    {
     "name": "stdout",
     "output_type": "stream",
     "text": [
      "Player two starts\n"
     ]
    }
   ],
   "source": [
    "choose_first()"
   ]
  },
  {
   "cell_type": "code",
   "execution_count": 7,
   "id": "6a8a6064",
   "metadata": {},
   "outputs": [],
   "source": [
    "def full_board_check(board):\n",
    "    i=0\n",
    "    for indice in range(len(board)):\n",
    "        if board[indice] != \" \":\n",
    "            i+=1\n",
    "        else:\n",
    "            pass\n",
    "    if i==10:\n",
    "        return True\n",
    "    else:\n",
    "        return False\n",
    "        "
   ]
  },
  {
   "cell_type": "code",
   "execution_count": 8,
   "id": "5c8ebc16",
   "metadata": {},
   "outputs": [],
   "source": [
    "def player_choice(board):\n",
    "    p_input=int(input(\"Select a number (1-9)\"))\n",
    "    \n",
    "    while board[p_input] != \" \":\n",
    "        print(\"Sorry, you can not choose this position\")\n",
    "        p_input=int(input(\"Select a number (1-9)\"))\n",
    "    return p_input"
   ]
  },
  {
   "cell_type": "code",
   "execution_count": 35,
   "id": "99d4ff0b",
   "metadata": {},
   "outputs": [],
   "source": [
    "def replay():\n",
    "    r_choice=input(\"Do you want to play again? yes or no\").lower()\n",
    "    if r_choice == \"yes\":\n",
    "        game_on=True\n",
    "    else:\n",
    "        game_on=False\n",
    "    return game_on"
   ]
  },
  {
   "cell_type": "code",
   "execution_count": 37,
   "id": "d3ac2454",
   "metadata": {},
   "outputs": [
    {
     "name": "stdout",
     "output_type": "stream",
     "text": [
      "Do you want to play again? yes or nono\n",
      "False\n"
     ]
    }
   ],
   "source": [
    "print(replay())"
   ]
  },
  {
   "cell_type": "code",
   "execution_count": 11,
   "id": "e87b1009",
   "metadata": {},
   "outputs": [],
   "source": [
    "def player_replacement(player):\n",
    "    if player == 'X':\n",
    "        player= 'O'\n",
    "    else:\n",
    "        player='X'\n",
    "    return player"
   ]
  },
  {
   "cell_type": "code",
   "execution_count": 42,
   "id": "80e01226",
   "metadata": {},
   "outputs": [
    {
     "name": "stdout",
     "output_type": "stream",
     "text": [
      "Welcome to Tic Tac Toe!\n",
      "Player 1: Do you want to be X or O? X\n",
      "Xé o priemiro\n",
      "Player two starts\n",
      "   |   |   \n",
      "   |   |   \n",
      "   |   |   \n",
      "-----------\n",
      "   |   |   \n",
      "   |   |   \n",
      "   |   |   \n",
      "-----------\n",
      "   |   |   \n",
      "   |   |   \n",
      "   |   |   \n",
      "Select a number (1-9)1\n",
      "   |   |   \n",
      "   |   |   \n",
      "   |   |   \n",
      "-----------\n",
      "   |   |   \n",
      "   |   |   \n",
      "   |   |   \n",
      "-----------\n",
      "   |   |   \n",
      " O |   |   \n",
      "   |   |   \n",
      "Select a number (1-9)2\n",
      "   |   |   \n",
      "   |   |   \n",
      "   |   |   \n",
      "-----------\n",
      "   |   |   \n",
      "   |   |   \n",
      "   |   |   \n",
      "-----------\n",
      "   |   |   \n",
      " O | X |   \n",
      "   |   |   \n",
      "Select a number (1-9)5\n",
      "   |   |   \n",
      "   |   |   \n",
      "   |   |   \n",
      "-----------\n",
      "   |   |   \n",
      "   | O |   \n",
      "   |   |   \n",
      "-----------\n",
      "   |   |   \n",
      " O | X |   \n",
      "   |   |   \n",
      "Select a number (1-9)3\n",
      "   |   |   \n",
      "   |   |   \n",
      "   |   |   \n",
      "-----------\n",
      "   |   |   \n",
      "   | O |   \n",
      "   |   |   \n",
      "-----------\n",
      "   |   |   \n",
      " O | X | X \n",
      "   |   |   \n",
      "Select a number (1-9)9\n",
      "   |   |   \n",
      "   |   | O \n",
      "   |   |   \n",
      "-----------\n",
      "   |   |   \n",
      "   | O |   \n",
      "   |   |   \n",
      "-----------\n",
      "   |   |   \n",
      " O | X | X \n",
      "   |   |   \n",
      "player two won\n",
      "Do you want to play again? yes or noyes\n",
      "True\n",
      "Player 1: Do you want to be X or O? X\n",
      "Xé o priemiro\n",
      "Player one starts\n",
      "   |   |   \n",
      "   |   |   \n",
      "   |   |   \n",
      "-----------\n",
      "   |   |   \n",
      "   |   |   \n",
      "   |   |   \n",
      "-----------\n",
      "   |   |   \n",
      "   |   |   \n",
      "   |   |   \n",
      "Select a number (1-9)1\n",
      "   |   |   \n",
      "   |   |   \n",
      "   |   |   \n",
      "-----------\n",
      "   |   |   \n",
      "   |   |   \n",
      "   |   |   \n",
      "-----------\n",
      "   |   |   \n",
      " X |   |   \n",
      "   |   |   \n",
      "Select a number (1-9)2\n",
      "   |   |   \n",
      "   |   |   \n",
      "   |   |   \n",
      "-----------\n",
      "   |   |   \n",
      "   |   |   \n",
      "   |   |   \n",
      "-----------\n",
      "   |   |   \n",
      " X | O |   \n",
      "   |   |   \n",
      "Select a number (1-9)5\n",
      "   |   |   \n",
      "   |   |   \n",
      "   |   |   \n",
      "-----------\n",
      "   |   |   \n",
      "   | X |   \n",
      "   |   |   \n",
      "-----------\n",
      "   |   |   \n",
      " X | O |   \n",
      "   |   |   \n",
      "Select a number (1-9)3\n",
      "   |   |   \n",
      "   |   |   \n",
      "   |   |   \n",
      "-----------\n",
      "   |   |   \n",
      "   | X |   \n",
      "   |   |   \n",
      "-----------\n",
      "   |   |   \n",
      " X | O | O \n",
      "   |   |   \n",
      "Select a number (1-9)9\n",
      "   |   |   \n",
      "   |   | X \n",
      "   |   |   \n",
      "-----------\n",
      "   |   |   \n",
      "   | X |   \n",
      "   |   |   \n",
      "-----------\n",
      "   |   |   \n",
      " X | O | O \n",
      "   |   |   \n",
      "Player one won\n",
      "Do you want to play again? yes or nono\n",
      "False\n"
     ]
    }
   ],
   "source": [
    "print(\"Welcome to Tic Tac Toe!\")\n",
    "game_on= True\n",
    "\n",
    "while game_on:\n",
    "    board= ['#',' ',' ',' ',' ',' ',' ',' ',' ',' ']\n",
    "    winner = False\n",
    "    p1,p2=player_input()\n",
    "    chooseF=choose_first(p1,p2)\n",
    "    player=chooseF\n",
    "    display_board(board)\n",
    "    while full_board_check(board) == False and winner==False:\n",
    "        \n",
    "        p_choice=player_choice(board)\n",
    "        \n",
    "        place_marker(board,player,p_choice)\n",
    "        \n",
    "        display_board(board)\n",
    "        \n",
    "        player=player_replacement(player)\n",
    "        \n",
    "        if win_check(board,p1)== True:\n",
    "            \n",
    "            print (\"Player one won\")\n",
    "            \n",
    "            winner = True\n",
    "            \n",
    "        elif win_check(board,p2)== True:\n",
    "            print (\"player two won\")\n",
    "            winner = True\n",
    "    game_on=replay()"
   ]
  },
  {
   "cell_type": "markdown",
   "id": "00637a28",
   "metadata": {},
   "source": [
    "## "
   ]
  }
 ],
 "metadata": {
  "kernelspec": {
   "display_name": "Python 3 (ipykernel)",
   "language": "python",
   "name": "python3"
  },
  "language_info": {
   "codemirror_mode": {
    "name": "ipython",
    "version": 3
   },
   "file_extension": ".py",
   "mimetype": "text/x-python",
   "name": "python",
   "nbconvert_exporter": "python",
   "pygments_lexer": "ipython3",
   "version": "3.9.12"
  }
 },
 "nbformat": 4,
 "nbformat_minor": 5
}
