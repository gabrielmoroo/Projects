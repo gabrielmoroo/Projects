{
 "cells": [
  {
   "cell_type": "code",
   "execution_count": 70,
   "id": "8118104c",
   "metadata": {},
   "outputs": [],
   "source": [
    "import random"
   ]
  },
  {
   "cell_type": "code",
   "execution_count": 73,
   "id": "6af94758",
   "metadata": {},
   "outputs": [],
   "source": [
    "def user():\n",
    "    game_on=True\n",
    "    head_count = 0\n",
    "    tail_count= 0\n",
    "    Coin = ['Tail','Head']\n",
    "    while game_on==True:\n",
    "        start_game = input('Do you wanna flip the coin? Y or N').upper()\n",
    "        if start_game == 'Y' or start_game == 'YES':\n",
    "            coin_face = random.choice(Coin)\n",
    "            if coin_face == 'Tail':\n",
    "                tail_count+=1\n",
    "            else:\n",
    "                head_count+=1\n",
    "            print(f'You have got {coin_face}.Total sum of Head {head_count} and Tail {tail_count}')\n",
    "        elif start_game == 'N' or start_game == 'NO':\n",
    "            print('\\nThanks for playing')\n",
    "            game_on=False\n",
    "        else:\n",
    "            print(\"Sorry I didnt understand what you typed\")"
   ]
  },
  {
   "cell_type": "code",
   "execution_count": 74,
   "id": "9a8cb8ec",
   "metadata": {},
   "outputs": [
    {
     "name": "stdout",
     "output_type": "stream",
     "text": [
      "Do you wanna flip the coin? Y or Nyes\n",
      "You have got Head.Total sum of Head 1 and Tail 0\n",
      "Do you wanna flip the coin? Y or Nno\n",
      "\n",
      "Thanks for playing\n"
     ]
    }
   ],
   "source": [
    "user()"
   ]
  },
  {
   "cell_type": "code",
   "execution_count": null,
   "id": "56327c5c",
   "metadata": {},
   "outputs": [],
   "source": []
  }
 ],
 "metadata": {
  "kernelspec": {
   "display_name": "Python 3 (ipykernel)",
   "language": "python",
   "name": "python3"
  },
  "language_info": {
   "codemirror_mode": {
    "name": "ipython",
    "version": 3
   },
   "file_extension": ".py",
   "mimetype": "text/x-python",
   "name": "python",
   "nbconvert_exporter": "python",
   "pygments_lexer": "ipython3",
   "version": "3.9.12"
  }
 },
 "nbformat": 4,
 "nbformat_minor": 5
}
